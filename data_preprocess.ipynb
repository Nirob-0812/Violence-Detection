{
 "cells": [
  {
   "cell_type": "code",
   "execution_count": 2,
   "metadata": {},
   "outputs": [
    {
     "name": "stdout",
     "output_type": "stream",
     "text": [
      "Feature extracting...\n",
      "Extracing data of class: Violence\n",
      "Extracing data of class: Non Violence\n",
      "Saved feature files successfully\n"
     ]
    }
   ],
   "source": [
    "import os\n",
    "import cv2\n",
    "import numpy as np\n",
    "\n",
    "image_height,image_width=64,64\n",
    "sequence_length=16\n",
    "video_dir=\"Our_Dataset/\"\n",
    "class_list=[\"Violence\",\"Non Violence\"]\n",
    "\n",
    "def frame_extraction(video_path):\n",
    "    video_reader = cv2.VideoCapture(video_path)\n",
    "    video_frame_count = video_reader.get(cv2.CAP_PROP_FRAME_COUNT)\n",
    "    skip_frames_window = max(int(video_frame_count / sequence_length), 1)\n",
    "    frame_list = []\n",
    "    for frame_counter in range(sequence_length):\n",
    "        video_reader.set(cv2.CAP_PROP_POS_FRAMES, skip_frames_window * frame_counter)\n",
    "        success, frame = video_reader.read()\n",
    "        if not success:\n",
    "            break\n",
    "        resized_frame = cv2.resize(frame, (image_height, image_width))\n",
    "        normalized_frame = resized_frame / 255\n",
    "        frame_list.append(normalized_frame)\n",
    "\n",
    "    video_reader.release()\n",
    "    return frame_list\n",
    "\n",
    "def create_dataset():\n",
    "    features = []\n",
    "    labels = []\n",
    "    video_file_paths = []\n",
    "\n",
    "    for class_index, class_name in enumerate(class_list):\n",
    "        print(\"Extracing data of class:\", class_name)\n",
    "        files_list = os.listdir(os.path.join(video_dir, class_name))\n",
    "        for file_name in files_list:\n",
    "            video_file_path = os.path.join(video_dir, class_name, file_name)\n",
    "            frames = frame_extraction(video_file_path)\n",
    "            if len(frames) == sequence_length:\n",
    "                features.append(frames)\n",
    "                labels.append(class_index)\n",
    "                video_file_paths.append(video_file_path)\n",
    "\n",
    "    features = np.asarray(features)\n",
    "    labels = np.asarray(labels)\n",
    "    return features, labels, video_file_paths\n",
    "\n",
    "if __name__==\"__main__\":\n",
    "    print(\"Feature extracting...\")\n",
    "    features,labels,video_file_paths=create_dataset()\n",
    "    np.save(\"Features/features_Own.npy\", features)\n",
    "    np.save(\"Features/labels_Own.npy\", labels)\n",
    "    np.save(\"Features/video_file_paths_Own.npy\", video_file_paths)\n",
    "    print(\"Saved feature files successfully\")\n",
    "    "
   ]
  }
 ],
 "metadata": {
  "kernelspec": {
   "display_name": "Python 3",
   "language": "python",
   "name": "python3"
  },
  "language_info": {
   "codemirror_mode": {
    "name": "ipython",
    "version": 3
   },
   "file_extension": ".py",
   "mimetype": "text/x-python",
   "name": "python",
   "nbconvert_exporter": "python",
   "pygments_lexer": "ipython3",
   "version": "3.10.7"
  }
 },
 "nbformat": 4,
 "nbformat_minor": 2
}
